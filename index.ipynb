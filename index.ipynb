{
 "cells": [
  {
   "cell_type": "markdown",
   "metadata": {},
   "source": [
    "# P Values and the Null Hypothesis\n",
    "\n",
    "\n",
    "## Introduction\n",
    "\n",
    "In this lesson, we'll learn about the relationship between P values and the Null Hypothesis, and their role in designing an experiment. \n",
    "\n",
    "\n",
    "## Objectives\n",
    "\n",
    "You will be able to:\n",
    "\n",
    "* Understand and explain the null hypothesis, including its role in sound experiment design\n",
    "* Understand, calculate, and interpret P-values\n",
    "\n",
    "\n",
    "### Understanding  The Null Hypothesis\n",
    "\n",
    "As we said previously, scientific experiments actually have 2 hypotheses:\n",
    "\n",
    "**_Null Hypothesis_**: There is no relationship between A and B \n",
    "Example: \"There is no relationship between this flu medication and a reduced recovery time from the flu\"\n",
    "\n",
    "**_Alternative Hypothesis_**: The hypothesis we traditionally think of when thikning of a hypothesis for an experiment\n",
    "Example: \"This flu medication reduces recovery time for the flu.\"\n",
    "\n",
    "#### What Does an Experiment Really Prove?\n",
    "\n",
    "Scientists use the Null Hypothesis so that we can be very specific in our findings. This is because a successful experiment doesn't actually _prove a relationship_ between our dependent and independent variable.  Instead, it just proves that we do not have enough evidence to convincingly believe there is _no relationship_ between the dependent and the independent variable. There can always be a lurking variable behind the scenes that is actually responsible for the relationship between our two variables--its almost impossible to cover every possible angle. However, a successful experiment where our p-value is less than our alpha value (typically, $p < 0.05$) does give us enough information to confidently say that's statistically unlikely that there is _no relationship_ between the two, which is what would have to be true in order for the null hypothesis to be correct!\n",
    "\n",
    "### The Null Hypothesis Loves You and Wants You To Be Happy\n",
    "\n",
    "Read the following article, [The Null Hypothesis Loves You and Wants You To Be Happy](https://byrslf.co/the-null-hypothesis-loves-you-and-wants-you-to-be-happy-3189413d8cd0).  This does an excellent job of explaining why the concept of the _Null Hypothesis_ is crucial to good science.  \n",
    "\n"
   ]
  }
 ],
 "metadata": {
  "kernelspec": {
   "display_name": "Python 3",
   "language": "python",
   "name": "python3"
  },
  "language_info": {
   "codemirror_mode": {
    "name": "ipython",
    "version": 3
   },
   "file_extension": ".py",
   "mimetype": "text/x-python",
   "name": "python",
   "nbconvert_exporter": "python",
   "pygments_lexer": "ipython3",
   "version": "3.6.5"
  }
 },
 "nbformat": 4,
 "nbformat_minor": 2
}
